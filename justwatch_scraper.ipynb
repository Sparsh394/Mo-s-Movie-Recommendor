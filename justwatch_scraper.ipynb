{
 "cells": [
  {
   "cell_type": "code",
   "execution_count": 23,
   "metadata": {},
   "outputs": [],
   "source": [
    "import requests\n",
    "import selenium\n",
    "from selenium import webdriver\n",
    "from selenium.webdriver.common.by import By\n",
    "from selenium.webdriver.support.ui import WebDriverWait\n",
    "from selenium.webdriver.support import expected_conditions as EC\n",
    "from webdriver_manager.chrome import ChromeDriverManager\n",
    "import pandas as pd\n",
    "from bs4 import BeautifulSoup\n",
    "import re\n",
    "import time"
   ]
  },
  {
   "cell_type": "code",
   "execution_count": 24,
   "metadata": {},
   "outputs": [],
   "source": [
    "test_string='300: Rise of an Empire'"
   ]
  },
  {
   "cell_type": "code",
   "execution_count": 25,
   "metadata": {},
   "outputs": [
    {
     "name": "stdout",
     "output_type": "stream",
     "text": [
      "300 rise of an empire\n"
     ]
    }
   ],
   "source": [
    "test_string=re.sub(r'([^\\s\\w]|_)+', '', test_string.lower())\n",
    "print(test_string)\n",
    "test_string=test_string.replace(' ','-')\n"
   ]
  },
  {
   "cell_type": "code",
   "execution_count": 26,
   "metadata": {},
   "outputs": [
    {
     "name": "stdout",
     "output_type": "stream",
     "text": [
      "300-rise-of-an-empire\n"
     ]
    }
   ],
   "source": [
    "print(test_string)"
   ]
  },
  {
   "cell_type": "code",
   "execution_count": 27,
   "metadata": {},
   "outputs": [],
   "source": [
    "url='https://www.justwatch.com/in/movie/'+test_string"
   ]
  },
  {
   "cell_type": "code",
   "execution_count": 28,
   "metadata": {},
   "outputs": [],
   "source": [
    "header = {\"User-Agent\": 'Mozilla/5.0 (Windows NT 10.0; Win64; x64) AppleWebKit/537.36 (KHTML, like Gecko) Chrome/84.0.4147.125 Safari/537.36'}"
   ]
  },
  {
   "cell_type": "code",
   "execution_count": 29,
   "metadata": {},
   "outputs": [
    {
     "name": "stderr",
     "output_type": "stream",
     "text": [
      "[WDM] - Current google-chrome version is 86.0.4240\n",
      "[WDM] - Get LATEST driver version for 86.0.4240\n"
     ]
    },
    {
     "name": "stdout",
     "output_type": "stream",
     "text": [
      " \n"
     ]
    },
    {
     "name": "stderr",
     "output_type": "stream",
     "text": [
      "[WDM] - Driver [C:\\Users\\Sparsh394\\.wdm\\drivers\\chromedriver\\win32\\86.0.4240.22\\chromedriver.exe] found in cache\n"
     ]
    }
   ],
   "source": [
    "chrome_options = webdriver.ChromeOptions()\n",
    "chrome_options.add_argument('--headless')\n",
    "driver = webdriver.Chrome(ChromeDriverManager().install(), options=chrome_options)\n",
    "driver.maximize_window() "
   ]
  },
  {
   "cell_type": "code",
   "execution_count": 30,
   "metadata": {},
   "outputs": [],
   "source": [
    "driver.get(url)\n",
    "time.sleep(30)"
   ]
  },
  {
   "cell_type": "code",
   "execution_count": 31,
   "metadata": {},
   "outputs": [],
   "source": [
    "page_source=driver.page_source"
   ]
  },
  {
   "cell_type": "code",
   "execution_count": 32,
   "metadata": {},
   "outputs": [],
   "source": [
    "soup=BeautifulSoup(page_source,'html.parser')"
   ]
  },
  {
   "cell_type": "code",
   "execution_count": 33,
   "metadata": {},
   "outputs": [],
   "source": [
    "pretty_soup=soup.prettify()"
   ]
  },
  {
   "cell_type": "code",
   "execution_count": 34,
   "metadata": {},
   "outputs": [],
   "source": [
    "stream_links=[]\n",
    "rent_links=[]\n",
    "buy_links=[]\n",
    "divs=soup.find_all(\"div\",{\"class\":\"monetizations\"})"
   ]
  },
  {
   "cell_type": "code",
   "execution_count": 35,
   "metadata": {},
   "outputs": [
    {
     "data": {
      "text/plain": [
       "[]"
      ]
     },
     "execution_count": 35,
     "metadata": {},
     "output_type": "execute_result"
    }
   ],
   "source": [
    "divs[0].find_all(\"div\",{\"class\":\"price-comparision__wrapper\"})"
   ]
  },
  {
   "cell_type": "code",
   "execution_count": 36,
   "metadata": {},
   "outputs": [
    {
     "name": "stdout",
     "output_type": "stream",
     "text": [
      "https://click.justwatch.com/a?r=http%3A%2F%2Fwww.netflix.com%2Ftitle%2F70269488&cx=eyJzY2hlbWEiOiJpZ2x1OmNvbS5zbm93cGxvd2FuYWx5dGljcy5zbm93cGxvdy9jb250ZXh0cy9qc29uc2NoZW1hLzEtMC0wIiwiZGF0YSI6W3sic2NoZW1hIjoiaWdsdTpjb20uanVzdHdhdGNoL3RpdGxlX2NvbnRleHQvanNvbnNjaGVtYS8xLTAtMCIsImRhdGEiOnsidGl0bGVJZCI6MTM1NjA4LCJvYmplY3RUeXBlIjoibW92aWUiLCJqd0VudGl0eUlkIjoidG0xMzU2MDgifX0seyJzY2hlbWEiOiJpZ2x1OmNvbS5qdXN0d2F0Y2gvY2xpY2tvdXRfY29udGV4dC9qc29uc2NoZW1hLzEtMi0wIiwiZGF0YSI6eyJwcm92aWRlciI6Ik5ldGZsaXgiLCJtb25ldGl6YXRpb25UeXBlIjoiZmxhdHJhdGUiLCJwcmVzZW50YXRpb25UeXBlIjoiaGQiLCJjdXJyZW5jeSI6IklOUiIsInByb3ZpZGVySWQiOjgsInBhcnRuZXJJZCI6MX19XX0&uct_country=IN&uct_buybox=normal&sid=a7149283-bad8-4b9d-99e2-92595cb189ca\n",
      "https://click.justwatch.com/a?r=https%3A%2F%2Fapp.primevideo.com%2Fdetail%3Fgti%3Damzn1.dv.gti.e6b0e07e-9380-2305-1c20-c6c10f3fc364%26ie%3DUTF8%26linkCode%3Dxm2&cx=eyJzY2hlbWEiOiJpZ2x1OmNvbS5zbm93cGxvd2FuYWx5dGljcy5zbm93cGxvdy9jb250ZXh0cy9qc29uc2NoZW1hLzEtMC0wIiwiZGF0YSI6W3sic2NoZW1hIjoiaWdsdTpjb20uanVzdHdhdGNoL3RpdGxlX2NvbnRleHQvanNvbnNjaGVtYS8xLTAtMCIsImRhdGEiOnsidGl0bGVJZCI6MTM1NjA4LCJvYmplY3RUeXBlIjoibW92aWUiLCJqd0VudGl0eUlkIjoidG0xMzU2MDgifX0seyJzY2hlbWEiOiJpZ2x1OmNvbS5qdXN0d2F0Y2gvY2xpY2tvdXRfY29udGV4dC9qc29uc2NoZW1hLzEtMi0wIiwiZGF0YSI6eyJwcm92aWRlciI6IkFtYXpvbiBQcmltZSBWaWRlbyIsIm1vbmV0aXphdGlvblR5cGUiOiJmbGF0cmF0ZSIsInByZXNlbnRhdGlvblR5cGUiOiJoZCIsImN1cnJlbmN5IjoiSU5SIiwicHJvdmlkZXJJZCI6MTE5LCJwYXJ0bmVySWQiOjF9fV19&uct_country=IN&uct_buybox=normal&sid=a7149283-bad8-4b9d-99e2-92595cb189ca\n",
      "https://click.justwatch.com/a?r=https%3A%2F%2Fwww.hungama.com%2Fmovie%2F300-rise-of-an-empire%2F2659188%2F&cx=eyJzY2hlbWEiOiJpZ2x1OmNvbS5zbm93cGxvd2FuYWx5dGljcy5zbm93cGxvdy9jb250ZXh0cy9qc29uc2NoZW1hLzEtMC0wIiwiZGF0YSI6W3sic2NoZW1hIjoiaWdsdTpjb20uanVzdHdhdGNoL3RpdGxlX2NvbnRleHQvanNvbnNjaGVtYS8xLTAtMCIsImRhdGEiOnsidGl0bGVJZCI6MTM1NjA4LCJvYmplY3RUeXBlIjoibW92aWUiLCJqd0VudGl0eUlkIjoidG0xMzU2MDgifX0seyJzY2hlbWEiOiJpZ2x1OmNvbS5qdXN0d2F0Y2gvY2xpY2tvdXRfY29udGV4dC9qc29uc2NoZW1hLzEtMi0wIiwiZGF0YSI6eyJwcm92aWRlciI6Ikh1bmdhbWEgUGxheSIsIm1vbmV0aXphdGlvblR5cGUiOiJyZW50IiwicHJlc2VudGF0aW9uVHlwZSI6ImhkIiwiY3VycmVuY3kiOiJJTlIiLCJwcmljZSI6NjAsInByb3ZpZGVySWQiOjQzNywicGFydG5lcklkIjoxfX1dfQ&uct_country=IN&uct_buybox=normal&sid=a7149283-bad8-4b9d-99e2-92595cb189ca\n",
      "https://click.justwatch.com/a?r=https%3A%2F%2Fplay.google.com%2Fstore%2Fmovies%2Fdetails%2F300_Rise_of_an_Empire%3Fgl%3DIN%26hl%3Den%26id%3DLYhpjrvw34o&cx=eyJzY2hlbWEiOiJpZ2x1OmNvbS5zbm93cGxvd2FuYWx5dGljcy5zbm93cGxvdy9jb250ZXh0cy9qc29uc2NoZW1hLzEtMC0wIiwiZGF0YSI6W3sic2NoZW1hIjoiaWdsdTpjb20uanVzdHdhdGNoL3RpdGxlX2NvbnRleHQvanNvbnNjaGVtYS8xLTAtMCIsImRhdGEiOnsidGl0bGVJZCI6MTM1NjA4LCJvYmplY3RUeXBlIjoibW92aWUiLCJqd0VudGl0eUlkIjoidG0xMzU2MDgifX0seyJzY2hlbWEiOiJpZ2x1OmNvbS5qdXN0d2F0Y2gvY2xpY2tvdXRfY29udGV4dC9qc29uc2NoZW1hLzEtMi0wIiwiZGF0YSI6eyJwcm92aWRlciI6Ikdvb2dsZSBQbGF5IE1vdmllcyIsIm1vbmV0aXphdGlvblR5cGUiOiJyZW50IiwicHJlc2VudGF0aW9uVHlwZSI6ImhkIiwiY3VycmVuY3kiOiJJTlIiLCJwcmljZSI6MTIwLCJwcm92aWRlcklkIjozLCJwYXJ0bmVySWQiOjF9fV19&uct_country=IN&uct_buybox=normal&sid=a7149283-bad8-4b9d-99e2-92595cb189ca\n",
      "https://click.justwatch.com/a?r=https%3A%2F%2Fwww.youtube.com%2Fwatch%3Fv%3DLYhpjrvw34o&cx=eyJzY2hlbWEiOiJpZ2x1OmNvbS5zbm93cGxvd2FuYWx5dGljcy5zbm93cGxvdy9jb250ZXh0cy9qc29uc2NoZW1hLzEtMC0wIiwiZGF0YSI6W3sic2NoZW1hIjoiaWdsdTpjb20uanVzdHdhdGNoL3RpdGxlX2NvbnRleHQvanNvbnNjaGVtYS8xLTAtMCIsImRhdGEiOnsidGl0bGVJZCI6MTM1NjA4LCJvYmplY3RUeXBlIjoibW92aWUiLCJqd0VudGl0eUlkIjoidG0xMzU2MDgifX0seyJzY2hlbWEiOiJpZ2x1OmNvbS5qdXN0d2F0Y2gvY2xpY2tvdXRfY29udGV4dC9qc29uc2NoZW1hLzEtMi0wIiwiZGF0YSI6eyJwcm92aWRlciI6IllvdVR1YmUiLCJtb25ldGl6YXRpb25UeXBlIjoicmVudCIsInByZXNlbnRhdGlvblR5cGUiOiJoZCIsImN1cnJlbmN5IjoiSU5SIiwicHJpY2UiOjEyMCwicHJvdmlkZXJJZCI6MTkyLCJwYXJ0bmVySWQiOjF9fV19&uct_country=IN&uct_buybox=normal&sid=a7149283-bad8-4b9d-99e2-92595cb189ca\n",
      "https://click.justwatch.com/a?r=https%3A%2F%2Fitunes.apple.com%2Fin%2Fmovie%2F300-rise-of-an-empire%2Fid890533269%3Fuo%3D4%26at%3D1000l3V2&cx=eyJzY2hlbWEiOiJpZ2x1OmNvbS5zbm93cGxvd2FuYWx5dGljcy5zbm93cGxvdy9jb250ZXh0cy9qc29uc2NoZW1hLzEtMC0wIiwiZGF0YSI6W3sic2NoZW1hIjoiaWdsdTpjb20uanVzdHdhdGNoL3RpdGxlX2NvbnRleHQvanNvbnNjaGVtYS8xLTAtMCIsImRhdGEiOnsidGl0bGVJZCI6MTM1NjA4LCJvYmplY3RUeXBlIjoibW92aWUiLCJqd0VudGl0eUlkIjoidG0xMzU2MDgifX0seyJzY2hlbWEiOiJpZ2x1OmNvbS5qdXN0d2F0Y2gvY2xpY2tvdXRfY29udGV4dC9qc29uc2NoZW1hLzEtMi0wIiwiZGF0YSI6eyJwcm92aWRlciI6IkFwcGxlIGlUdW5lcyIsIm1vbmV0aXphdGlvblR5cGUiOiJidXkiLCJwcmVzZW50YXRpb25UeXBlIjoiaGQiLCJjdXJyZW5jeSI6IklOUiIsInByaWNlIjo1OTAsInByb3ZpZGVySWQiOjIsInBhcnRuZXJJZCI6MX19XX0&uct_country=IN&uct_buybox=normal&sid=a7149283-bad8-4b9d-99e2-92595cb189ca\n",
      "https://click.justwatch.com/a?r=https%3A%2F%2Fplay.google.com%2Fstore%2Fmovies%2Fdetails%2F300_Rise_of_an_Empire%3Fgl%3DIN%26hl%3Den%26id%3DLYhpjrvw34o&cx=eyJzY2hlbWEiOiJpZ2x1OmNvbS5zbm93cGxvd2FuYWx5dGljcy5zbm93cGxvdy9jb250ZXh0cy9qc29uc2NoZW1hLzEtMC0wIiwiZGF0YSI6W3sic2NoZW1hIjoiaWdsdTpjb20uanVzdHdhdGNoL3RpdGxlX2NvbnRleHQvanNvbnNjaGVtYS8xLTAtMCIsImRhdGEiOnsidGl0bGVJZCI6MTM1NjA4LCJvYmplY3RUeXBlIjoibW92aWUiLCJqd0VudGl0eUlkIjoidG0xMzU2MDgifX0seyJzY2hlbWEiOiJpZ2x1OmNvbS5qdXN0d2F0Y2gvY2xpY2tvdXRfY29udGV4dC9qc29uc2NoZW1hLzEtMi0wIiwiZGF0YSI6eyJwcm92aWRlciI6Ikdvb2dsZSBQbGF5IE1vdmllcyIsIm1vbmV0aXphdGlvblR5cGUiOiJidXkiLCJwcmVzZW50YXRpb25UeXBlIjoiaGQiLCJjdXJyZW5jeSI6IklOUiIsInByaWNlIjo1OTAsInByb3ZpZGVySWQiOjMsInBhcnRuZXJJZCI6MX19XX0&uct_country=IN&uct_buybox=normal&sid=a7149283-bad8-4b9d-99e2-92595cb189ca\n",
      "https://click.justwatch.com/a?r=https%3A%2F%2Fwww.youtube.com%2Fwatch%3Fv%3DLYhpjrvw34o&cx=eyJzY2hlbWEiOiJpZ2x1OmNvbS5zbm93cGxvd2FuYWx5dGljcy5zbm93cGxvdy9jb250ZXh0cy9qc29uc2NoZW1hLzEtMC0wIiwiZGF0YSI6W3sic2NoZW1hIjoiaWdsdTpjb20uanVzdHdhdGNoL3RpdGxlX2NvbnRleHQvanNvbnNjaGVtYS8xLTAtMCIsImRhdGEiOnsidGl0bGVJZCI6MTM1NjA4LCJvYmplY3RUeXBlIjoibW92aWUiLCJqd0VudGl0eUlkIjoidG0xMzU2MDgifX0seyJzY2hlbWEiOiJpZ2x1OmNvbS5qdXN0d2F0Y2gvY2xpY2tvdXRfY29udGV4dC9qc29uc2NoZW1hLzEtMi0wIiwiZGF0YSI6eyJwcm92aWRlciI6IllvdVR1YmUiLCJtb25ldGl6YXRpb25UeXBlIjoiYnV5IiwicHJlc2VudGF0aW9uVHlwZSI6ImhkIiwiY3VycmVuY3kiOiJJTlIiLCJwcmljZSI6NTkwLCJwcm92aWRlcklkIjoxOTIsInBhcnRuZXJJZCI6MX19XX0&uct_country=IN&uct_buybox=normal&sid=a7149283-bad8-4b9d-99e2-92595cb189ca\n"
     ]
    }
   ],
   "source": [
    "for link in soup.find_all('a'):\n",
    "    if link.get('href') == None:\n",
    "        continue\n",
    "        \n",
    "    if 'click.justwatch' in link.get('href'): \n",
    "        print(link.get('href'))"
   ]
  },
  {
   "cell_type": "code",
   "execution_count": 37,
   "metadata": {},
   "outputs": [],
   "source": [
    "test = soup.find_all('div', {'class': 'price-comparison__grid__row__title'})"
   ]
  },
  {
   "cell_type": "code",
   "execution_count": 38,
   "metadata": {},
   "outputs": [],
   "source": [
    "c = soup.find_all('div', {'class': 'price-comparison__grid__row__holder'})"
   ]
  },
  {
   "cell_type": "code",
   "execution_count": 39,
   "metadata": {},
   "outputs": [
    {
     "data": {
      "text/plain": [
       "[<div class=\"price-comparison__grid__row__holder\"><!-- --><div class=\"price-comparison__grid__row__element\"><div class=\"presentation-type price-comparison__grid__row__element__icon\"><a href=\"https://click.justwatch.com/a?r=http%3A%2F%2Fwww.netflix.com%2Ftitle%2F70269488&amp;cx=eyJzY2hlbWEiOiJpZ2x1OmNvbS5zbm93cGxvd2FuYWx5dGljcy5zbm93cGxvdy9jb250ZXh0cy9qc29uc2NoZW1hLzEtMC0wIiwiZGF0YSI6W3sic2NoZW1hIjoiaWdsdTpjb20uanVzdHdhdGNoL3RpdGxlX2NvbnRleHQvanNvbnNjaGVtYS8xLTAtMCIsImRhdGEiOnsidGl0bGVJZCI6MTM1NjA4LCJvYmplY3RUeXBlIjoibW92aWUiLCJqd0VudGl0eUlkIjoidG0xMzU2MDgifX0seyJzY2hlbWEiOiJpZ2x1OmNvbS5qdXN0d2F0Y2gvY2xpY2tvdXRfY29udGV4dC9qc29uc2NoZW1hLzEtMi0wIiwiZGF0YSI6eyJwcm92aWRlciI6Ik5ldGZsaXgiLCJtb25ldGl6YXRpb25UeXBlIjoiZmxhdHJhdGUiLCJwcmVzZW50YXRpb25UeXBlIjoiaGQiLCJjdXJyZW5jeSI6IklOUiIsInByb3ZpZGVySWQiOjgsInBhcnRuZXJJZCI6MX19XX0&amp;uct_country=IN&amp;uct_buybox=normal&amp;sid=a7149283-bad8-4b9d-99e2-92595cb189ca\" target=\"_blank\"><img alt=\"Netflix\" class=\"jw-provider-icon price-comparison__grid__row__icon\" src=\"https://images.justwatch.com/icon/207360008/s100\" title=\"Netflix\"/><div class=\"price-comparison__grid__row__price\"> Subs <span class=\"price-comparison__badge price-comparison__badge--hd price-comparison__badge--hd\"> HD </span></div></a></div></div><div class=\"price-comparison__grid__row__element\"><div class=\"presentation-type price-comparison__grid__row__element__icon\"><a href=\"https://click.justwatch.com/a?r=https%3A%2F%2Fapp.primevideo.com%2Fdetail%3Fgti%3Damzn1.dv.gti.e6b0e07e-9380-2305-1c20-c6c10f3fc364%26ie%3DUTF8%26linkCode%3Dxm2&amp;cx=eyJzY2hlbWEiOiJpZ2x1OmNvbS5zbm93cGxvd2FuYWx5dGljcy5zbm93cGxvdy9jb250ZXh0cy9qc29uc2NoZW1hLzEtMC0wIiwiZGF0YSI6W3sic2NoZW1hIjoiaWdsdTpjb20uanVzdHdhdGNoL3RpdGxlX2NvbnRleHQvanNvbnNjaGVtYS8xLTAtMCIsImRhdGEiOnsidGl0bGVJZCI6MTM1NjA4LCJvYmplY3RUeXBlIjoibW92aWUiLCJqd0VudGl0eUlkIjoidG0xMzU2MDgifX0seyJzY2hlbWEiOiJpZ2x1OmNvbS5qdXN0d2F0Y2gvY2xpY2tvdXRfY29udGV4dC9qc29uc2NoZW1hLzEtMi0wIiwiZGF0YSI6eyJwcm92aWRlciI6IkFtYXpvbiBQcmltZSBWaWRlbyIsIm1vbmV0aXphdGlvblR5cGUiOiJmbGF0cmF0ZSIsInByZXNlbnRhdGlvblR5cGUiOiJoZCIsImN1cnJlbmN5IjoiSU5SIiwicHJvdmlkZXJJZCI6MTE5LCJwYXJ0bmVySWQiOjF9fV19&amp;uct_country=IN&amp;uct_buybox=normal&amp;sid=a7149283-bad8-4b9d-99e2-92595cb189ca\" target=\"_blank\"><img alt=\"Amazon Prime Video\" class=\"jw-provider-icon price-comparison__grid__row__icon\" src=\"https://images.justwatch.com/icon/52449861/s100\" title=\"Amazon Prime Video\"/><div class=\"price-comparison__grid__row__price\"> Subs <span class=\"price-comparison__badge price-comparison__badge--hd price-comparison__badge--hd\"> HD </span></div></a></div></div><!-- --></div>,\n",
       " <div class=\"price-comparison__grid__row__holder\"><!-- --><div class=\"price-comparison__grid__row__element\"><div class=\"presentation-type price-comparison__grid__row__element__icon\"><a href=\"https://click.justwatch.com/a?r=https%3A%2F%2Fwww.hungama.com%2Fmovie%2F300-rise-of-an-empire%2F2659188%2F&amp;cx=eyJzY2hlbWEiOiJpZ2x1OmNvbS5zbm93cGxvd2FuYWx5dGljcy5zbm93cGxvdy9jb250ZXh0cy9qc29uc2NoZW1hLzEtMC0wIiwiZGF0YSI6W3sic2NoZW1hIjoiaWdsdTpjb20uanVzdHdhdGNoL3RpdGxlX2NvbnRleHQvanNvbnNjaGVtYS8xLTAtMCIsImRhdGEiOnsidGl0bGVJZCI6MTM1NjA4LCJvYmplY3RUeXBlIjoibW92aWUiLCJqd0VudGl0eUlkIjoidG0xMzU2MDgifX0seyJzY2hlbWEiOiJpZ2x1OmNvbS5qdXN0d2F0Y2gvY2xpY2tvdXRfY29udGV4dC9qc29uc2NoZW1hLzEtMi0wIiwiZGF0YSI6eyJwcm92aWRlciI6Ikh1bmdhbWEgUGxheSIsIm1vbmV0aXphdGlvblR5cGUiOiJyZW50IiwicHJlc2VudGF0aW9uVHlwZSI6ImhkIiwiY3VycmVuY3kiOiJJTlIiLCJwcmljZSI6NjAsInByb3ZpZGVySWQiOjQzNywicGFydG5lcklkIjoxfX1dfQ&amp;uct_country=IN&amp;uct_buybox=normal&amp;sid=a7149283-bad8-4b9d-99e2-92595cb189ca\" target=\"_blank\"><img alt=\"Hungama Play\" class=\"jw-provider-icon price-comparison__grid__row__icon\" src=\"https://images.justwatch.com/icon/201704934/s100\" title=\"Hungama Play\"/><div class=\"price-comparison__grid__row__price\"> ₹60.00 <span class=\"price-comparison__badge price-comparison__badge--hd price-comparison__badge--hd\"> HD </span></div></a></div></div><div class=\"price-comparison__grid__row__element\"><div class=\"presentation-type price-comparison__grid__row__element__icon\"><a href=\"https://click.justwatch.com/a?r=https%3A%2F%2Fplay.google.com%2Fstore%2Fmovies%2Fdetails%2F300_Rise_of_an_Empire%3Fgl%3DIN%26hl%3Den%26id%3DLYhpjrvw34o&amp;cx=eyJzY2hlbWEiOiJpZ2x1OmNvbS5zbm93cGxvd2FuYWx5dGljcy5zbm93cGxvdy9jb250ZXh0cy9qc29uc2NoZW1hLzEtMC0wIiwiZGF0YSI6W3sic2NoZW1hIjoiaWdsdTpjb20uanVzdHdhdGNoL3RpdGxlX2NvbnRleHQvanNvbnNjaGVtYS8xLTAtMCIsImRhdGEiOnsidGl0bGVJZCI6MTM1NjA4LCJvYmplY3RUeXBlIjoibW92aWUiLCJqd0VudGl0eUlkIjoidG0xMzU2MDgifX0seyJzY2hlbWEiOiJpZ2x1OmNvbS5qdXN0d2F0Y2gvY2xpY2tvdXRfY29udGV4dC9qc29uc2NoZW1hLzEtMi0wIiwiZGF0YSI6eyJwcm92aWRlciI6Ikdvb2dsZSBQbGF5IE1vdmllcyIsIm1vbmV0aXphdGlvblR5cGUiOiJyZW50IiwicHJlc2VudGF0aW9uVHlwZSI6ImhkIiwiY3VycmVuY3kiOiJJTlIiLCJwcmljZSI6MTIwLCJwcm92aWRlcklkIjozLCJwYXJ0bmVySWQiOjF9fV19&amp;uct_country=IN&amp;uct_buybox=normal&amp;sid=a7149283-bad8-4b9d-99e2-92595cb189ca\" target=\"_blank\"><img alt=\"Google Play Movies\" class=\"jw-provider-icon price-comparison__grid__row__icon\" src=\"https://images.justwatch.com/icon/169478387/s100\" title=\"Google Play Movies\"/><div class=\"price-comparison__grid__row__price\"> ₹120.00 <span class=\"price-comparison__badge price-comparison__badge--hd price-comparison__badge--hd\"> HD </span></div></a></div></div><div class=\"price-comparison__grid__row__element\"><div class=\"presentation-type price-comparison__grid__row__element__icon\"><a href=\"https://click.justwatch.com/a?r=https%3A%2F%2Fwww.youtube.com%2Fwatch%3Fv%3DLYhpjrvw34o&amp;cx=eyJzY2hlbWEiOiJpZ2x1OmNvbS5zbm93cGxvd2FuYWx5dGljcy5zbm93cGxvdy9jb250ZXh0cy9qc29uc2NoZW1hLzEtMC0wIiwiZGF0YSI6W3sic2NoZW1hIjoiaWdsdTpjb20uanVzdHdhdGNoL3RpdGxlX2NvbnRleHQvanNvbnNjaGVtYS8xLTAtMCIsImRhdGEiOnsidGl0bGVJZCI6MTM1NjA4LCJvYmplY3RUeXBlIjoibW92aWUiLCJqd0VudGl0eUlkIjoidG0xMzU2MDgifX0seyJzY2hlbWEiOiJpZ2x1OmNvbS5qdXN0d2F0Y2gvY2xpY2tvdXRfY29udGV4dC9qc29uc2NoZW1hLzEtMi0wIiwiZGF0YSI6eyJwcm92aWRlciI6IllvdVR1YmUiLCJtb25ldGl6YXRpb25UeXBlIjoicmVudCIsInByZXNlbnRhdGlvblR5cGUiOiJoZCIsImN1cnJlbmN5IjoiSU5SIiwicHJpY2UiOjEyMCwicHJvdmlkZXJJZCI6MTkyLCJwYXJ0bmVySWQiOjF9fV19&amp;uct_country=IN&amp;uct_buybox=normal&amp;sid=a7149283-bad8-4b9d-99e2-92595cb189ca\" target=\"_blank\"><img alt=\"YouTube\" class=\"jw-provider-icon price-comparison__grid__row__icon\" src=\"https://images.justwatch.com/icon/59562423/s100\" title=\"YouTube\"/><div class=\"price-comparison__grid__row__price\"> ₹120.00 <span class=\"price-comparison__badge price-comparison__badge--hd price-comparison__badge--hd\"> HD </span></div></a></div></div><!-- --></div>,\n",
       " <div class=\"price-comparison__grid__row__holder\"><!-- --><div class=\"price-comparison__grid__row__element\"><div class=\"presentation-type price-comparison__grid__row__element__icon\"><a href=\"https://click.justwatch.com/a?r=https%3A%2F%2Fitunes.apple.com%2Fin%2Fmovie%2F300-rise-of-an-empire%2Fid890533269%3Fuo%3D4%26at%3D1000l3V2&amp;cx=eyJzY2hlbWEiOiJpZ2x1OmNvbS5zbm93cGxvd2FuYWx5dGljcy5zbm93cGxvdy9jb250ZXh0cy9qc29uc2NoZW1hLzEtMC0wIiwiZGF0YSI6W3sic2NoZW1hIjoiaWdsdTpjb20uanVzdHdhdGNoL3RpdGxlX2NvbnRleHQvanNvbnNjaGVtYS8xLTAtMCIsImRhdGEiOnsidGl0bGVJZCI6MTM1NjA4LCJvYmplY3RUeXBlIjoibW92aWUiLCJqd0VudGl0eUlkIjoidG0xMzU2MDgifX0seyJzY2hlbWEiOiJpZ2x1OmNvbS5qdXN0d2F0Y2gvY2xpY2tvdXRfY29udGV4dC9qc29uc2NoZW1hLzEtMi0wIiwiZGF0YSI6eyJwcm92aWRlciI6IkFwcGxlIGlUdW5lcyIsIm1vbmV0aXphdGlvblR5cGUiOiJidXkiLCJwcmVzZW50YXRpb25UeXBlIjoiaGQiLCJjdXJyZW5jeSI6IklOUiIsInByaWNlIjo1OTAsInByb3ZpZGVySWQiOjIsInBhcnRuZXJJZCI6MX19XX0&amp;uct_country=IN&amp;uct_buybox=normal&amp;sid=a7149283-bad8-4b9d-99e2-92595cb189ca\" target=\"_blank\"><img alt=\"Apple iTunes\" class=\"jw-provider-icon price-comparison__grid__row__icon\" src=\"https://images.justwatch.com/icon/190848813/s100\" title=\"Apple iTunes\"/><div class=\"price-comparison__grid__row__price\"> ₹590.00 <span class=\"price-comparison__badge price-comparison__badge--hd price-comparison__badge--hd\"> HD </span></div></a></div></div><div class=\"price-comparison__grid__row__element\"><div class=\"presentation-type price-comparison__grid__row__element__icon\"><a href=\"https://click.justwatch.com/a?r=https%3A%2F%2Fplay.google.com%2Fstore%2Fmovies%2Fdetails%2F300_Rise_of_an_Empire%3Fgl%3DIN%26hl%3Den%26id%3DLYhpjrvw34o&amp;cx=eyJzY2hlbWEiOiJpZ2x1OmNvbS5zbm93cGxvd2FuYWx5dGljcy5zbm93cGxvdy9jb250ZXh0cy9qc29uc2NoZW1hLzEtMC0wIiwiZGF0YSI6W3sic2NoZW1hIjoiaWdsdTpjb20uanVzdHdhdGNoL3RpdGxlX2NvbnRleHQvanNvbnNjaGVtYS8xLTAtMCIsImRhdGEiOnsidGl0bGVJZCI6MTM1NjA4LCJvYmplY3RUeXBlIjoibW92aWUiLCJqd0VudGl0eUlkIjoidG0xMzU2MDgifX0seyJzY2hlbWEiOiJpZ2x1OmNvbS5qdXN0d2F0Y2gvY2xpY2tvdXRfY29udGV4dC9qc29uc2NoZW1hLzEtMi0wIiwiZGF0YSI6eyJwcm92aWRlciI6Ikdvb2dsZSBQbGF5IE1vdmllcyIsIm1vbmV0aXphdGlvblR5cGUiOiJidXkiLCJwcmVzZW50YXRpb25UeXBlIjoiaGQiLCJjdXJyZW5jeSI6IklOUiIsInByaWNlIjo1OTAsInByb3ZpZGVySWQiOjMsInBhcnRuZXJJZCI6MX19XX0&amp;uct_country=IN&amp;uct_buybox=normal&amp;sid=a7149283-bad8-4b9d-99e2-92595cb189ca\" target=\"_blank\"><img alt=\"Google Play Movies\" class=\"jw-provider-icon price-comparison__grid__row__icon\" src=\"https://images.justwatch.com/icon/169478387/s100\" title=\"Google Play Movies\"/><div class=\"price-comparison__grid__row__price\"> ₹590.00 <span class=\"price-comparison__badge price-comparison__badge--hd price-comparison__badge--hd\"> HD </span></div></a></div></div><div class=\"price-comparison__grid__row__element\"><div class=\"presentation-type price-comparison__grid__row__element__icon\"><a href=\"https://click.justwatch.com/a?r=https%3A%2F%2Fwww.youtube.com%2Fwatch%3Fv%3DLYhpjrvw34o&amp;cx=eyJzY2hlbWEiOiJpZ2x1OmNvbS5zbm93cGxvd2FuYWx5dGljcy5zbm93cGxvdy9jb250ZXh0cy9qc29uc2NoZW1hLzEtMC0wIiwiZGF0YSI6W3sic2NoZW1hIjoiaWdsdTpjb20uanVzdHdhdGNoL3RpdGxlX2NvbnRleHQvanNvbnNjaGVtYS8xLTAtMCIsImRhdGEiOnsidGl0bGVJZCI6MTM1NjA4LCJvYmplY3RUeXBlIjoibW92aWUiLCJqd0VudGl0eUlkIjoidG0xMzU2MDgifX0seyJzY2hlbWEiOiJpZ2x1OmNvbS5qdXN0d2F0Y2gvY2xpY2tvdXRfY29udGV4dC9qc29uc2NoZW1hLzEtMi0wIiwiZGF0YSI6eyJwcm92aWRlciI6IllvdVR1YmUiLCJtb25ldGl6YXRpb25UeXBlIjoiYnV5IiwicHJlc2VudGF0aW9uVHlwZSI6ImhkIiwiY3VycmVuY3kiOiJJTlIiLCJwcmljZSI6NTkwLCJwcm92aWRlcklkIjoxOTIsInBhcnRuZXJJZCI6MX19XX0&amp;uct_country=IN&amp;uct_buybox=normal&amp;sid=a7149283-bad8-4b9d-99e2-92595cb189ca\" target=\"_blank\"><img alt=\"YouTube\" class=\"jw-provider-icon price-comparison__grid__row__icon\" src=\"https://images.justwatch.com/icon/59562423/s100\" title=\"YouTube\"/><div class=\"price-comparison__grid__row__price\"> ₹590.00 <span class=\"price-comparison__badge price-comparison__badge--hd price-comparison__badge--hd\"> HD </span></div></a></div></div><!-- --></div>]"
      ]
     },
     "execution_count": 39,
     "metadata": {},
     "output_type": "execute_result"
    }
   ],
   "source": [
    "c"
   ]
  },
  {
   "cell_type": "code",
   "execution_count": 40,
   "metadata": {},
   "outputs": [
    {
     "name": "stdout",
     "output_type": "stream",
     "text": [
      "Title: Stream\n",
      "no of links: 2\n",
      "Title: Rent\n",
      "no of links: 3\n",
      "Title: Buy\n",
      "no of links: 3\n"
     ]
    }
   ],
   "source": [
    "for i in range(len(c)): \n",
    "    print('Title: ' + str(test[i].text.strip()))\n",
    "    print('no of links: ' + str(len(c[i].find_all('a'))))"
   ]
  },
  {
   "cell_type": "code",
   "execution_count": 41,
   "metadata": {},
   "outputs": [
    {
     "name": "stdout",
     "output_type": "stream",
     "text": [
      "Stream: \n",
      "Provider Icon: https://images.justwatch.com/icon/207360008/s100\n",
      "Link: https://click.justwatch.com/a?r=http%3A%2F%2Fwww.netflix.com%2Ftitle%2F70269488&cx=eyJzY2hlbWEiOiJpZ2x1OmNvbS5zbm93cGxvd2FuYWx5dGljcy5zbm93cGxvdy9jb250ZXh0cy9qc29uc2NoZW1hLzEtMC0wIiwiZGF0YSI6W3sic2NoZW1hIjoiaWdsdTpjb20uanVzdHdhdGNoL3RpdGxlX2NvbnRleHQvanNvbnNjaGVtYS8xLTAtMCIsImRhdGEiOnsidGl0bGVJZCI6MTM1NjA4LCJvYmplY3RUeXBlIjoibW92aWUiLCJqd0VudGl0eUlkIjoidG0xMzU2MDgifX0seyJzY2hlbWEiOiJpZ2x1OmNvbS5qdXN0d2F0Y2gvY2xpY2tvdXRfY29udGV4dC9qc29uc2NoZW1hLzEtMi0wIiwiZGF0YSI6eyJwcm92aWRlciI6Ik5ldGZsaXgiLCJtb25ldGl6YXRpb25UeXBlIjoiZmxhdHJhdGUiLCJwcmVzZW50YXRpb25UeXBlIjoiaGQiLCJjdXJyZW5jeSI6IklOUiIsInByb3ZpZGVySWQiOjgsInBhcnRuZXJJZCI6MX19XX0&uct_country=IN&uct_buybox=normal&sid=a7149283-bad8-4b9d-99e2-92595cb189ca\n",
      "\n",
      "Provider Icon: https://images.justwatch.com/icon/52449861/s100\n",
      "Link: https://click.justwatch.com/a?r=https%3A%2F%2Fapp.primevideo.com%2Fdetail%3Fgti%3Damzn1.dv.gti.e6b0e07e-9380-2305-1c20-c6c10f3fc364%26ie%3DUTF8%26linkCode%3Dxm2&cx=eyJzY2hlbWEiOiJpZ2x1OmNvbS5zbm93cGxvd2FuYWx5dGljcy5zbm93cGxvdy9jb250ZXh0cy9qc29uc2NoZW1hLzEtMC0wIiwiZGF0YSI6W3sic2NoZW1hIjoiaWdsdTpjb20uanVzdHdhdGNoL3RpdGxlX2NvbnRleHQvanNvbnNjaGVtYS8xLTAtMCIsImRhdGEiOnsidGl0bGVJZCI6MTM1NjA4LCJvYmplY3RUeXBlIjoibW92aWUiLCJqd0VudGl0eUlkIjoidG0xMzU2MDgifX0seyJzY2hlbWEiOiJpZ2x1OmNvbS5qdXN0d2F0Y2gvY2xpY2tvdXRfY29udGV4dC9qc29uc2NoZW1hLzEtMi0wIiwiZGF0YSI6eyJwcm92aWRlciI6IkFtYXpvbiBQcmltZSBWaWRlbyIsIm1vbmV0aXphdGlvblR5cGUiOiJmbGF0cmF0ZSIsInByZXNlbnRhdGlvblR5cGUiOiJoZCIsImN1cnJlbmN5IjoiSU5SIiwicHJvdmlkZXJJZCI6MTE5LCJwYXJ0bmVySWQiOjF9fV19&uct_country=IN&uct_buybox=normal&sid=a7149283-bad8-4b9d-99e2-92595cb189ca\n",
      "\n",
      "\n",
      "Rent: \n",
      "Provider Icon: https://images.justwatch.com/icon/201704934/s100\n",
      "Link: https://click.justwatch.com/a?r=https%3A%2F%2Fwww.hungama.com%2Fmovie%2F300-rise-of-an-empire%2F2659188%2F&cx=eyJzY2hlbWEiOiJpZ2x1OmNvbS5zbm93cGxvd2FuYWx5dGljcy5zbm93cGxvdy9jb250ZXh0cy9qc29uc2NoZW1hLzEtMC0wIiwiZGF0YSI6W3sic2NoZW1hIjoiaWdsdTpjb20uanVzdHdhdGNoL3RpdGxlX2NvbnRleHQvanNvbnNjaGVtYS8xLTAtMCIsImRhdGEiOnsidGl0bGVJZCI6MTM1NjA4LCJvYmplY3RUeXBlIjoibW92aWUiLCJqd0VudGl0eUlkIjoidG0xMzU2MDgifX0seyJzY2hlbWEiOiJpZ2x1OmNvbS5qdXN0d2F0Y2gvY2xpY2tvdXRfY29udGV4dC9qc29uc2NoZW1hLzEtMi0wIiwiZGF0YSI6eyJwcm92aWRlciI6Ikh1bmdhbWEgUGxheSIsIm1vbmV0aXphdGlvblR5cGUiOiJyZW50IiwicHJlc2VudGF0aW9uVHlwZSI6ImhkIiwiY3VycmVuY3kiOiJJTlIiLCJwcmljZSI6NjAsInByb3ZpZGVySWQiOjQzNywicGFydG5lcklkIjoxfX1dfQ&uct_country=IN&uct_buybox=normal&sid=a7149283-bad8-4b9d-99e2-92595cb189ca\n",
      "\n",
      "Provider Icon: https://images.justwatch.com/icon/169478387/s100\n",
      "Link: https://click.justwatch.com/a?r=https%3A%2F%2Fplay.google.com%2Fstore%2Fmovies%2Fdetails%2F300_Rise_of_an_Empire%3Fgl%3DIN%26hl%3Den%26id%3DLYhpjrvw34o&cx=eyJzY2hlbWEiOiJpZ2x1OmNvbS5zbm93cGxvd2FuYWx5dGljcy5zbm93cGxvdy9jb250ZXh0cy9qc29uc2NoZW1hLzEtMC0wIiwiZGF0YSI6W3sic2NoZW1hIjoiaWdsdTpjb20uanVzdHdhdGNoL3RpdGxlX2NvbnRleHQvanNvbnNjaGVtYS8xLTAtMCIsImRhdGEiOnsidGl0bGVJZCI6MTM1NjA4LCJvYmplY3RUeXBlIjoibW92aWUiLCJqd0VudGl0eUlkIjoidG0xMzU2MDgifX0seyJzY2hlbWEiOiJpZ2x1OmNvbS5qdXN0d2F0Y2gvY2xpY2tvdXRfY29udGV4dC9qc29uc2NoZW1hLzEtMi0wIiwiZGF0YSI6eyJwcm92aWRlciI6Ikdvb2dsZSBQbGF5IE1vdmllcyIsIm1vbmV0aXphdGlvblR5cGUiOiJyZW50IiwicHJlc2VudGF0aW9uVHlwZSI6ImhkIiwiY3VycmVuY3kiOiJJTlIiLCJwcmljZSI6MTIwLCJwcm92aWRlcklkIjozLCJwYXJ0bmVySWQiOjF9fV19&uct_country=IN&uct_buybox=normal&sid=a7149283-bad8-4b9d-99e2-92595cb189ca\n",
      "\n",
      "Provider Icon: https://images.justwatch.com/icon/59562423/s100\n",
      "Link: https://click.justwatch.com/a?r=https%3A%2F%2Fwww.youtube.com%2Fwatch%3Fv%3DLYhpjrvw34o&cx=eyJzY2hlbWEiOiJpZ2x1OmNvbS5zbm93cGxvd2FuYWx5dGljcy5zbm93cGxvdy9jb250ZXh0cy9qc29uc2NoZW1hLzEtMC0wIiwiZGF0YSI6W3sic2NoZW1hIjoiaWdsdTpjb20uanVzdHdhdGNoL3RpdGxlX2NvbnRleHQvanNvbnNjaGVtYS8xLTAtMCIsImRhdGEiOnsidGl0bGVJZCI6MTM1NjA4LCJvYmplY3RUeXBlIjoibW92aWUiLCJqd0VudGl0eUlkIjoidG0xMzU2MDgifX0seyJzY2hlbWEiOiJpZ2x1OmNvbS5qdXN0d2F0Y2gvY2xpY2tvdXRfY29udGV4dC9qc29uc2NoZW1hLzEtMi0wIiwiZGF0YSI6eyJwcm92aWRlciI6IllvdVR1YmUiLCJtb25ldGl6YXRpb25UeXBlIjoicmVudCIsInByZXNlbnRhdGlvblR5cGUiOiJoZCIsImN1cnJlbmN5IjoiSU5SIiwicHJpY2UiOjEyMCwicHJvdmlkZXJJZCI6MTkyLCJwYXJ0bmVySWQiOjF9fV19&uct_country=IN&uct_buybox=normal&sid=a7149283-bad8-4b9d-99e2-92595cb189ca\n",
      "\n",
      "\n",
      "Buy: \n",
      "Provider Icon: https://images.justwatch.com/icon/190848813/s100\n",
      "Link: https://click.justwatch.com/a?r=https%3A%2F%2Fitunes.apple.com%2Fin%2Fmovie%2F300-rise-of-an-empire%2Fid890533269%3Fuo%3D4%26at%3D1000l3V2&cx=eyJzY2hlbWEiOiJpZ2x1OmNvbS5zbm93cGxvd2FuYWx5dGljcy5zbm93cGxvdy9jb250ZXh0cy9qc29uc2NoZW1hLzEtMC0wIiwiZGF0YSI6W3sic2NoZW1hIjoiaWdsdTpjb20uanVzdHdhdGNoL3RpdGxlX2NvbnRleHQvanNvbnNjaGVtYS8xLTAtMCIsImRhdGEiOnsidGl0bGVJZCI6MTM1NjA4LCJvYmplY3RUeXBlIjoibW92aWUiLCJqd0VudGl0eUlkIjoidG0xMzU2MDgifX0seyJzY2hlbWEiOiJpZ2x1OmNvbS5qdXN0d2F0Y2gvY2xpY2tvdXRfY29udGV4dC9qc29uc2NoZW1hLzEtMi0wIiwiZGF0YSI6eyJwcm92aWRlciI6IkFwcGxlIGlUdW5lcyIsIm1vbmV0aXphdGlvblR5cGUiOiJidXkiLCJwcmVzZW50YXRpb25UeXBlIjoiaGQiLCJjdXJyZW5jeSI6IklOUiIsInByaWNlIjo1OTAsInByb3ZpZGVySWQiOjIsInBhcnRuZXJJZCI6MX19XX0&uct_country=IN&uct_buybox=normal&sid=a7149283-bad8-4b9d-99e2-92595cb189ca\n",
      "\n",
      "Provider Icon: https://images.justwatch.com/icon/169478387/s100\n",
      "Link: https://click.justwatch.com/a?r=https%3A%2F%2Fplay.google.com%2Fstore%2Fmovies%2Fdetails%2F300_Rise_of_an_Empire%3Fgl%3DIN%26hl%3Den%26id%3DLYhpjrvw34o&cx=eyJzY2hlbWEiOiJpZ2x1OmNvbS5zbm93cGxvd2FuYWx5dGljcy5zbm93cGxvdy9jb250ZXh0cy9qc29uc2NoZW1hLzEtMC0wIiwiZGF0YSI6W3sic2NoZW1hIjoiaWdsdTpjb20uanVzdHdhdGNoL3RpdGxlX2NvbnRleHQvanNvbnNjaGVtYS8xLTAtMCIsImRhdGEiOnsidGl0bGVJZCI6MTM1NjA4LCJvYmplY3RUeXBlIjoibW92aWUiLCJqd0VudGl0eUlkIjoidG0xMzU2MDgifX0seyJzY2hlbWEiOiJpZ2x1OmNvbS5qdXN0d2F0Y2gvY2xpY2tvdXRfY29udGV4dC9qc29uc2NoZW1hLzEtMi0wIiwiZGF0YSI6eyJwcm92aWRlciI6Ikdvb2dsZSBQbGF5IE1vdmllcyIsIm1vbmV0aXphdGlvblR5cGUiOiJidXkiLCJwcmVzZW50YXRpb25UeXBlIjoiaGQiLCJjdXJyZW5jeSI6IklOUiIsInByaWNlIjo1OTAsInByb3ZpZGVySWQiOjMsInBhcnRuZXJJZCI6MX19XX0&uct_country=IN&uct_buybox=normal&sid=a7149283-bad8-4b9d-99e2-92595cb189ca\n",
      "\n",
      "Provider Icon: https://images.justwatch.com/icon/59562423/s100\n",
      "Link: https://click.justwatch.com/a?r=https%3A%2F%2Fwww.youtube.com%2Fwatch%3Fv%3DLYhpjrvw34o&cx=eyJzY2hlbWEiOiJpZ2x1OmNvbS5zbm93cGxvd2FuYWx5dGljcy5zbm93cGxvdy9jb250ZXh0cy9qc29uc2NoZW1hLzEtMC0wIiwiZGF0YSI6W3sic2NoZW1hIjoiaWdsdTpjb20uanVzdHdhdGNoL3RpdGxlX2NvbnRleHQvanNvbnNjaGVtYS8xLTAtMCIsImRhdGEiOnsidGl0bGVJZCI6MTM1NjA4LCJvYmplY3RUeXBlIjoibW92aWUiLCJqd0VudGl0eUlkIjoidG0xMzU2MDgifX0seyJzY2hlbWEiOiJpZ2x1OmNvbS5qdXN0d2F0Y2gvY2xpY2tvdXRfY29udGV4dC9qc29uc2NoZW1hLzEtMi0wIiwiZGF0YSI6eyJwcm92aWRlciI6IllvdVR1YmUiLCJtb25ldGl6YXRpb25UeXBlIjoiYnV5IiwicHJlc2VudGF0aW9uVHlwZSI6ImhkIiwiY3VycmVuY3kiOiJJTlIiLCJwcmljZSI6NTkwLCJwcm92aWRlcklkIjoxOTIsInBhcnRuZXJJZCI6MX19XX0&uct_country=IN&uct_buybox=normal&sid=a7149283-bad8-4b9d-99e2-92595cb189ca\n",
      "\n",
      "\n"
     ]
    }
   ],
   "source": [
    "for i in range(len(c)): \n",
    "    print(test[i].text.strip() + ': ') \n",
    "    \n",
    "    links = c[i].find_all('a')\n",
    "    icons = c[i].find_all('img')\n",
    "    \n",
    "    for j in range(len(links)): \n",
    "        print('Provider Icon: ' + icons[j].get('src'))\n",
    "        print('Link: ' + links[j].get('href'))\n",
    "        print()\n",
    "    \n",
    "    print()"
   ]
  }
 ],
 "metadata": {
  "kernelspec": {
   "display_name": "Python 3",
   "language": "python",
   "name": "python3"
  },
  "language_info": {
   "codemirror_mode": {
    "name": "ipython",
    "version": 3
   },
   "file_extension": ".py",
   "mimetype": "text/x-python",
   "name": "python",
   "nbconvert_exporter": "python",
   "pygments_lexer": "ipython3",
   "version": "3.8.3"
  }
 },
 "nbformat": 4,
 "nbformat_minor": 4
}
